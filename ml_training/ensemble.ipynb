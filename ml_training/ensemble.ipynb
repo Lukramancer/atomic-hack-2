{
 "cells": [
  {
   "cell_type": "markdown",
   "source": [
    "# Ансамблинг моделей детекции дефектов сварки\n",
    "\n",
    "## Ensemble-boxes baseline\n",
    "\n",
    "В данном ноутбуке представлен код создания ансамбля из двух моделей object detection"
   ],
   "metadata": {
    "collapsed": false
   }
  },
  {
   "cell_type": "code",
   "execution_count": 51,
   "outputs": [],
   "source": [
    "import csv\n",
    "import ensemble_boxes"
   ],
   "metadata": {
    "collapsed": false
   }
  },
  {
   "cell_type": "markdown",
   "source": [
    "## 1. Загружаем сабмиты сделанные с использованием одной модели"
   ],
   "metadata": {
    "collapsed": false
   }
  },
  {
   "cell_type": "code",
   "execution_count": 160,
   "outputs": [],
   "source": [
    "files = []\n",
    "\n",
    "detr_data = {}\n",
    "yolo_data = {}\n",
    "big_data = {}\n",
    "\n",
    "# FPN model submit from detectron2\n",
    "with open(\"detr_submission_new.csv\") as f:\n",
    "    detr_reader = csv.reader(f, delimiter=\";\")\n",
    "\n",
    "    for i, row in enumerate(detr_reader):\n",
    "        # пропускаем заголовок файла\n",
    "        if i == 0:\n",
    "            continue\n",
    "\n",
    "        if row[0] not in detr_data:\n",
    "            # сохраняем координаты прямоугольника, класс и уверенность модели\n",
    "            detr_data[row[0]] = {\n",
    "                \"bboxes\": [[float(row[i]) for i in range(2, 6)]],\n",
    "                \"class\": [int(row[1])],\n",
    "                \"conf\": [float(row[6])],\n",
    "            }\n",
    "        else:\n",
    "            detr_data[row[0]][\"bboxes\"].append([float(row[i]) for i in range(2, 6)])\n",
    "            detr_data[row[0]][\"class\"].append(int(row[1]))\n",
    "            detr_data[row[0]][\"conf\"].append(float(row[6]))\n",
    "\n",
    "# YOLOv9c model submit\n",
    "with open(\"submission_new.csv\") as f:\n",
    "    yolo_reader = csv.reader(f, delimiter=\";\")\n",
    "\n",
    "    for i, row in enumerate(yolo_reader):\n",
    "        if i == 0:\n",
    "            continue\n",
    "\n",
    "        if row[0] not in yolo_data:\n",
    "            yolo_data[row[0]] = {\n",
    "                \"bboxes\": [[float(row[i]) for i in range(2, 6)]],\n",
    "                \"class\": [int(row[1])],\n",
    "                \"conf\": [float(row[6])],\n",
    "            }\n",
    "        else:\n",
    "            yolo_data[row[0]][\"bboxes\"].append([float(row[i]) for i in range(2, 6)])\n",
    "            yolo_data[row[0]][\"class\"].append(int(row[1]))\n",
    "            yolo_data[row[0]][\"conf\"].append(float(row[6]))\n"
   ],
   "metadata": {
    "collapsed": false,
    "ExecuteTime": {
     "end_time": "2024-06-16T02:01:29.106054800Z",
     "start_time": "2024-06-16T02:01:28.688821800Z"
    }
   },
   "id": "1f3a8a3621fae122"
  },
  {
   "cell_type": "markdown",
   "source": [
    "создаем общий список файлов датасета"
   ],
   "metadata": {
    "collapsed": false
   }
  },
  {
   "cell_type": "code",
   "execution_count": 162,
   "outputs": [
    {
     "data": {
      "text/plain": "1111"
     },
     "execution_count": 162,
     "metadata": {},
     "output_type": "execute_result"
    }
   ],
   "source": [
    "files += [i for i in detr_data if i not in files]\n",
    "files += [i for i in yolo_data if i not in files]\n",
    "\n",
    "len(files)"
   ],
   "metadata": {
    "collapsed": false,
    "ExecuteTime": {
     "end_time": "2024-06-16T02:01:29.697320500Z",
     "start_time": "2024-06-16T02:01:29.652441400Z"
    }
   },
   "id": "d2a3bf74f910e00b"
  },
  {
   "cell_type": "markdown",
   "source": [
    "# 2. Соединяем предикты моделей и удаляем дубликаты через nms"
   ],
   "metadata": {
    "collapsed": false
   }
  },
  {
   "cell_type": "markdown",
   "source": [
    "функции для перевода координат прямоугольников в формат yolo и обратно"
   ],
   "metadata": {
    "collapsed": false
   }
  },
  {
   "cell_type": "code",
   "execution_count": 163,
   "outputs": [],
   "source": [
    "def x1y1x2y2_from_xywh(bbox):\n",
    "    return [bbox[0] - bbox[2] / 2, bbox[1] - bbox[3] / 2, bbox[0] + bbox[2] / 2, bbox[1] + bbox[3] / 2]\n",
    "\n",
    "def xywh_from_x1y1x2y2(bbox):\n",
    "    return [(bbox[0] + bbox[2]) / 2, (bbox[1] + bbox[3]) / 2, bbox[2] - bbox[0], bbox[3] - bbox[1]]"
   ],
   "metadata": {
    "collapsed": false,
    "ExecuteTime": {
     "end_time": "2024-06-16T02:01:30.396968100Z",
     "start_time": "2024-06-16T02:01:30.377987200Z"
    }
   },
   "id": "7301b6b676b6fc8c"
  },
  {
   "cell_type": "code",
   "execution_count": 164,
   "outputs": [],
   "source": [
    "lines = []"
   ],
   "metadata": {
    "collapsed": false,
    "ExecuteTime": {
     "end_time": "2024-06-16T02:01:30.802429700Z",
     "start_time": "2024-06-16T02:01:30.782480900Z"
    }
   },
   "id": "d454b5dc2e84b672"
  },
  {
   "cell_type": "code",
   "execution_count": 165,
   "outputs": [
    {
     "ename": "ValueError",
     "evalue": "all the input arrays must have same number of dimensions, but the array at index 0 has 1 dimension(s) and the array at index 1 has 2 dimension(s)",
     "output_type": "error",
     "traceback": [
      "\u001B[1;31m---------------------------------------------------------------------------\u001B[0m",
      "\u001B[1;31mValueError\u001B[0m                                Traceback (most recent call last)",
      "Cell \u001B[1;32mIn[165], line 53\u001B[0m\n\u001B[0;32m     50\u001B[0m skip_box_thr \u001B[38;5;241m=\u001B[39m \u001B[38;5;241m0.0001\u001B[39m\n\u001B[0;32m     51\u001B[0m sigma \u001B[38;5;241m=\u001B[39m \u001B[38;5;241m0.1\u001B[39m\n\u001B[1;32m---> 53\u001B[0m boxes, confs, classes \u001B[38;5;241m=\u001B[39m \u001B[43mensemble_boxes\u001B[49m\u001B[38;5;241;43m.\u001B[39;49m\u001B[43msoft_nms\u001B[49m\u001B[43m(\u001B[49m\u001B[43mboxes_list\u001B[49m\u001B[43m,\u001B[49m\u001B[43m \u001B[49m\u001B[43mconfs_list\u001B[49m\u001B[43m,\u001B[49m\u001B[43m \u001B[49m\u001B[43mclasses_list\u001B[49m\u001B[43m,\u001B[49m\u001B[43m \u001B[49m\u001B[43mweights\u001B[49m\u001B[38;5;241;43m=\u001B[39;49m\u001B[43mweights\u001B[49m\u001B[43m,\u001B[49m\u001B[43m \u001B[49m\u001B[43miou_thr\u001B[49m\u001B[38;5;241;43m=\u001B[39;49m\u001B[43miou_thr\u001B[49m\u001B[43m,\u001B[49m\u001B[43m \u001B[49m\u001B[43msigma\u001B[49m\u001B[38;5;241;43m=\u001B[39;49m\u001B[43msigma\u001B[49m\u001B[43m,\u001B[49m\u001B[43m \u001B[49m\u001B[43mthresh\u001B[49m\u001B[38;5;241;43m=\u001B[39;49m\u001B[43mskip_box_thr\u001B[49m\u001B[43m)\u001B[49m\n\u001B[0;32m     55\u001B[0m \u001B[38;5;28;01mfor\u001B[39;00m i, box \u001B[38;5;129;01min\u001B[39;00m \u001B[38;5;28menumerate\u001B[39m(boxes):\n\u001B[0;32m     56\u001B[0m     lines\u001B[38;5;241m.\u001B[39mappend([file, classes[i], \u001B[38;5;241m*\u001B[39mxywh_from_x1y1x2y2(box)])\n",
      "File \u001B[1;32m~\\PycharmProjects\\atomhack_ml2024\\server\\venv\\lib\\site-packages\\ensemble_boxes\\ensemble_boxes_nms.py:249\u001B[0m, in \u001B[0;36msoft_nms\u001B[1;34m(boxes, scores, labels, method, iou_thr, sigma, thresh, weights)\u001B[0m\n\u001B[0;32m    235\u001B[0m \u001B[38;5;28;01mdef\u001B[39;00m \u001B[38;5;21msoft_nms\u001B[39m(boxes, scores, labels, method\u001B[38;5;241m=\u001B[39m\u001B[38;5;241m2\u001B[39m, iou_thr\u001B[38;5;241m=\u001B[39m\u001B[38;5;241m0.5\u001B[39m, sigma\u001B[38;5;241m=\u001B[39m\u001B[38;5;241m0.5\u001B[39m, thresh\u001B[38;5;241m=\u001B[39m\u001B[38;5;241m0.001\u001B[39m, weights\u001B[38;5;241m=\u001B[39m\u001B[38;5;28;01mNone\u001B[39;00m):\n\u001B[0;32m    236\u001B[0m \u001B[38;5;250m    \u001B[39m\u001B[38;5;124;03m\"\"\"\u001B[39;00m\n\u001B[0;32m    237\u001B[0m \u001B[38;5;124;03m    Short call for Soft-NMS\u001B[39;00m\n\u001B[0;32m    238\u001B[0m \u001B[38;5;124;03m     \u001B[39;00m\n\u001B[1;32m   (...)\u001B[0m\n\u001B[0;32m    247\u001B[0m \u001B[38;5;124;03m    :return: \u001B[39;00m\n\u001B[0;32m    248\u001B[0m \u001B[38;5;124;03m    \"\"\"\u001B[39;00m\n\u001B[1;32m--> 249\u001B[0m     \u001B[38;5;28;01mreturn\u001B[39;00m \u001B[43mnms_method\u001B[49m\u001B[43m(\u001B[49m\u001B[43mboxes\u001B[49m\u001B[43m,\u001B[49m\u001B[43m \u001B[49m\u001B[43mscores\u001B[49m\u001B[43m,\u001B[49m\u001B[43m \u001B[49m\u001B[43mlabels\u001B[49m\u001B[43m,\u001B[49m\u001B[43m \u001B[49m\u001B[43mmethod\u001B[49m\u001B[38;5;241;43m=\u001B[39;49m\u001B[43mmethod\u001B[49m\u001B[43m,\u001B[49m\u001B[43m \u001B[49m\u001B[43miou_thr\u001B[49m\u001B[38;5;241;43m=\u001B[39;49m\u001B[43miou_thr\u001B[49m\u001B[43m,\u001B[49m\u001B[43m \u001B[49m\u001B[43msigma\u001B[49m\u001B[38;5;241;43m=\u001B[39;49m\u001B[43msigma\u001B[49m\u001B[43m,\u001B[49m\u001B[43m \u001B[49m\u001B[43mthresh\u001B[49m\u001B[38;5;241;43m=\u001B[39;49m\u001B[43mthresh\u001B[49m\u001B[43m,\u001B[49m\u001B[43m \u001B[49m\u001B[43mweights\u001B[49m\u001B[38;5;241;43m=\u001B[39;49m\u001B[43mweights\u001B[49m\u001B[43m)\u001B[49m\n",
      "File \u001B[1;32m~\\PycharmProjects\\atomhack_ml2024\\server\\venv\\lib\\site-packages\\ensemble_boxes\\ensemble_boxes_nms.py:187\u001B[0m, in \u001B[0;36mnms_method\u001B[1;34m(boxes, scores, labels, method, iou_thr, sigma, thresh, weights)\u001B[0m\n\u001B[0;32m    184\u001B[0m             scores[i] \u001B[38;5;241m=\u001B[39m (np\u001B[38;5;241m.\u001B[39marray(scores[i]) \u001B[38;5;241m*\u001B[39m weights[i]) \u001B[38;5;241m/\u001B[39m weights\u001B[38;5;241m.\u001B[39msum()\n\u001B[0;32m    186\u001B[0m \u001B[38;5;66;03m# We concatenate everything\u001B[39;00m\n\u001B[1;32m--> 187\u001B[0m boxes \u001B[38;5;241m=\u001B[39m \u001B[43mnp\u001B[49m\u001B[38;5;241;43m.\u001B[39;49m\u001B[43mconcatenate\u001B[49m\u001B[43m(\u001B[49m\u001B[43mboxes\u001B[49m\u001B[43m)\u001B[49m\n\u001B[0;32m    188\u001B[0m scores \u001B[38;5;241m=\u001B[39m np\u001B[38;5;241m.\u001B[39mconcatenate(scores)\n\u001B[0;32m    189\u001B[0m labels \u001B[38;5;241m=\u001B[39m np\u001B[38;5;241m.\u001B[39mconcatenate(labels)\n",
      "\u001B[1;31mValueError\u001B[0m: all the input arrays must have same number of dimensions, but the array at index 0 has 1 dimension(s) and the array at index 1 has 2 dimension(s)"
     ]
    }
   ],
   "source": [
    "for file in files:\n",
    "    if file in yolo_data and file in detr_data:\n",
    "        boxes_list = [\n",
    "            [x1y1x2y2_from_xywh(i) for i in yolo_data[file][\"bboxes\"]],\n",
    "            [x1y1x2y2_from_xywh(i) for i in detr_data[file][\"bboxes\"]]\n",
    "        ]\n",
    "\n",
    "        confs_list = [\n",
    "            yolo_data[file][\"conf\"],\n",
    "            detr_data[file][\"conf\"]\n",
    "        ]\n",
    "\n",
    "        classes_list = [\n",
    "            yolo_data[file][\"class\"],\n",
    "            detr_data[file][\"class\"]\n",
    "        ]\n",
    "    elif file in yolo_data:\n",
    "        boxes_list = [\n",
    "            [x1y1x2y2_from_xywh(i) for i in yolo_data[file][\"bboxes\"]],\n",
    "        ]\n",
    "\n",
    "        confs_list = [\n",
    "            yolo_data[file][\"conf\"],\n",
    "        ]\n",
    "\n",
    "        classes_list = [\n",
    "            yolo_data[file][\"class\"],\n",
    "        ]\n",
    "    else:\n",
    "        boxes_list = [\n",
    "            [x1y1x2y2_from_xywh(i) for i in detr_data[file][\"bboxes\"]]\n",
    "        ]\n",
    "\n",
    "        confs_list = [\n",
    "            detr_data[file][\"conf\"]\n",
    "        ]\n",
    "\n",
    "        classes_list = [\n",
    "            detr_data[file][\"class\"]\n",
    "        ]\n",
    "\n",
    "    weights = None\n",
    "    iou_thr = 0.5\n",
    "    skip_box_thr = 0.0001\n",
    "    sigma = 0.1\n",
    "\n",
    "    # объединяем данные\n",
    "    boxes, confs, classes = ensemble_boxes.soft_nms(boxes_list, confs_list, classes_list, weights=weights, iou_thr=iou_thr, sigma=sigma, thresh=skip_box_thr)\n",
    "    \n",
    "    for i, box in enumerate(boxes):\n",
    "        lines.append([file, classes[i], *xywh_from_x1y1x2y2(box)])\n"
   ],
   "metadata": {
    "collapsed": false,
    "ExecuteTime": {
     "end_time": "2024-06-16T02:01:31.331520400Z",
     "start_time": "2024-06-16T02:01:31.262587800Z"
    }
   },
   "id": "3048edf59cb5a20f"
  },
  {
   "cell_type": "markdown",
   "source": [
    "# 3. Создание итогового файла с предсказаниями"
   ],
   "metadata": {
    "collapsed": false
   }
  },
  {
   "cell_type": "code",
   "execution_count": 159,
   "outputs": [],
   "source": [
    "with open(\"new_submission.csv\", mode=\"w\") as f:\n",
    "    csv_writer = csv.writer(f, lineterminator=\"\\n\", delimiter=\";\")\n",
    "    csv_writer.writerow(\"filename;class_id;rel_x;rel_y;width;height\".split(\";\"))\n",
    "    csv_writer.writerows(lines)"
   ],
   "metadata": {
    "collapsed": false,
    "ExecuteTime": {
     "end_time": "2024-06-16T02:00:18.456694800Z",
     "start_time": "2024-06-16T02:00:18.377802Z"
    }
   },
   "id": "4781553a5becf21e"
  },
  {
   "cell_type": "code",
   "execution_count": null,
   "outputs": [],
   "source": [],
   "metadata": {
    "collapsed": false
   },
   "id": "2ad2168cae37ad3d"
  }
 ],
 "metadata": {
  "kernelspec": {
   "display_name": "Python 3",
   "language": "python",
   "name": "python3"
  },
  "language_info": {
   "codemirror_mode": {
    "name": "ipython",
    "version": 2
   },
   "file_extension": ".py",
   "mimetype": "text/x-python",
   "name": "python",
   "nbconvert_exporter": "python",
   "pygments_lexer": "ipython2",
   "version": "2.7.6"
  }
 },
 "nbformat": 4,
 "nbformat_minor": 5
}
